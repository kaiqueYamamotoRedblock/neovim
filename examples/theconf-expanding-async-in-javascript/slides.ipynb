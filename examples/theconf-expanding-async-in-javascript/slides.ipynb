{
 "cells": [
  {
   "cell_type": "markdown",
   "metadata": {
    "slideshow": {
     "slide_type": "slide"
    }
   },
   "source": [
    "# Beyond Promises\n",
    "\n",
    "## Async Patterns in JavaScript\n",
    "\n",
    "<br/>\n",
    "<br/>\n",
    "<br/>\n",
    "\n",
    "<center>by Thales Mello</center>"
   ]
  },
  {
   "cell_type": "markdown",
   "metadata": {
    "slideshow": {
     "slide_type": "slide"
    }
   },
   "source": [
    "# Let's start with a story\n",
    "\n",
    "Weird JavaScript behavior had always kept me from sharing any interest with Node.\n",
    "\n",
    "But in 2015, I was helping friend build a chat microservice for his app\n",
    "\n",
    "The alternative we chose to solve the problem as a combination of [Node](https://nodejs.org/en/) + [SocketIO](https://socket.io/)..."
   ]
  },
  {
   "cell_type": "markdown",
   "metadata": {
    "slideshow": {
     "slide_type": "slide"
    }
   },
   "source": [
    "and it I became really impressed with the final results!\n",
    "\n",
    "But frankly, the programming environment felt very awkward.\n",
    "\n",
    "Anyhow, it was enough to stir up my interest about asynchronous programming."
   ]
  },
  {
   "cell_type": "markdown",
   "metadata": {
    "slideshow": {
     "slide_type": "slide"
    }
   },
   "source": [
    "# What exectly do you mean with awkward programming environment?\n",
    "\n",
    "Callbacks."
   ]
  },
  {
   "cell_type": "markdown",
   "metadata": {
    "slideshow": {
     "slide_type": "slide"
    }
   },
   "source": [
    "In Node, callbacks are the builtin way of invoking asynchronous code, and in the first years of Node, it was the only way.\n",
    "\n",
    "And because asynchronous programming was the whole point of using Node, I frankly used callbacks for everything."
   ]
  },
  {
   "cell_type": "markdown",
   "metadata": {
    "slideshow": {
     "slide_type": "slide"
    }
   },
   "source": [
    "# Node\n",
    "\n",
    "- Allows us to create fast servers relying on JavaScript's event driven approach to programming\n",
    "- But working with async programming can be hard"
   ]
  },
  {
   "cell_type": "markdown",
   "metadata": {
    "slideshow": {
     "slide_type": "slide"
    }
   },
   "source": [
    "# How exactly callbacks work?"
   ]
  },
  {
   "cell_type": "code",
   "execution_count": 32,
   "metadata": {
    "slideshow": {
     "slide_type": "slide"
    }
   },
   "outputs": [],
   "source": [
    "var sleep = time => {\n",
    "    let start = new Date().getTime()\n",
    "    let expire = start + time;\n",
    "\n",
    "    while (new Date().getTime() < expire);\n",
    "}"
   ]
  },
  {
   "cell_type": "code",
   "execution_count": 33,
   "metadata": {
    "slideshow": {
     "slide_type": "slide"
    }
   },
   "outputs": [
    {
     "name": "stdout",
     "output_type": "stream",
     "text": [
      "Hello\n",
      "world!\n"
     ]
    }
   ],
   "source": [
    "// Consider this sync example. The 'world' is delayed when compared\n",
    "// to the first line. But it happens at the cost of blocking JavaScript's\n",
    "// single thread.\n",
    "console.log('Hello')\n",
    "sleep(1000)\n",
    "console.log('world!')"
   ]
  },
  {
   "cell_type": "code",
   "execution_count": 34,
   "metadata": {
    "slideshow": {
     "slide_type": "slide"
    }
   },
   "outputs": [
    {
     "name": "stdout",
     "output_type": "stream",
     "text": [
      "Hello\n",
      "world!\n"
     ]
    }
   ],
   "source": [
    "var progress = fn => {\n",
    "  var handle = setInterval(() => process.stdout.write('.'), 50)\n",
    "  fn(() => clearTimeout(handle))\n",
    "}\n",
    "\n",
    "progress(done => {\n",
    "    console.log('Hello')\n",
    "    sleep(1000)\n",
    "    console.log('world!')\n",
    "    done()\n",
    "})"
   ]
  },
  {
   "cell_type": "code",
   "execution_count": 35,
   "metadata": {
    "scrolled": true,
    "slideshow": {
     "slide_type": "slide"
    }
   },
   "outputs": [
    {
     "name": "stdout",
     "output_type": "stream",
     "text": [
      "Hello\n",
      "..................world!\n"
     ]
    }
   ],
   "source": [
    "var timeout = (time, fn) => setTimeout(fn, time)\n",
    "\n",
    "progress(done => {\n",
    "    console.log('Hello')\n",
    "    timeout(1000, () => {\n",
    "        console.log('world!')\n",
    "        done()\n",
    "    })\n",
    "})"
   ]
  },
  {
   "cell_type": "markdown",
   "metadata": {
    "slideshow": {
     "slide_type": "slide"
    }
   },
   "source": [
    "# Let's work with a two servers example "
   ]
  },
  {
   "cell_type": "code",
   "execution_count": 39,
   "metadata": {
    "slideshow": {
     "slide_type": "slide"
    }
   },
   "outputs": [
    {
     "name": "stdout",
     "output_type": "stream",
     "text": [
      "A: Booting up system\n",
      "B: Booting up system\n",
      ".B: Server up and running\n",
      "..................A: Checking network connection\n",
      ".........A: Request complex computation\n",
      "B: Starting heavy computation\n",
      "......................................A: Computation returned 42\n"
     ]
    }
   ],
   "source": [
    "progress(done => {\n",
    "  var queueCallback, serverHandler\n",
    "  console.log(\"A: Booting up system\")\n",
    "  timeout(1000, () => {\n",
    "    console.log(\"A: Checking network connection\")\n",
    "    timeout(500, () => {\n",
    "      console.log(\"A: Request complex computation\")\n",
    "      sendRequest(value => {\n",
    "        console.log(\"A: Computation returned \" + value)\n",
    "        done()\n",
    "      })\n",
    "    })\n",
    "  })\n",
    "\n",
    "  console.log(\"B: Booting up system\")\n",
    "  timeout(100, () => {\n",
    "    console.log(\"B: Server up and running\")\n",
    "    serverHandler = (callback) => {\n",
    "      console.log(\"B: Starting heavy computation\")\n",
    "      timeout(2000, () => callback(42))\n",
    "    }\n",
    "    if (queueCallback) { serverHandler(queueCallback) }\n",
    "  })\n",
    "\n",
    "  function sendRequest(callback) {\n",
    "    if (serverHandler) { serverHandler(callback) }\n",
    "    else { queueCallback = callback }\n",
    "  }\n",
    "})"
   ]
  },
  {
   "cell_type": "code",
   "execution_count": 40,
   "metadata": {
    "collapsed": true,
    "slideshow": {
     "slide_type": "slide"
    }
   },
   "outputs": [],
   "source": [
    "function serverA(bootTime, done) {\n",
    "  console.log(\"A: Booting up system...\")\n",
    "  timeout(bootTime, checkNetwork)\n",
    "\n",
    "  function checkNetwork() {\n",
    "    console.log(\"A: Checking network connection\")\n",
    "    timeout(500, sendRequest)\n",
    "  }\n",
    "\n",
    "  function sendRequest() {\n",
    "    console.log(\"A: Request complex computation\")\n",
    "    sendNetworkRequest(callback)\n",
    "  }\n",
    "\n",
    "  function callback(value) {\n",
    "    console.log(\"A: Computation returned \" + value)\n",
    "    done()\n",
    "  }\n",
    "}"
   ]
  },
  {
   "cell_type": "code",
   "execution_count": 41,
   "metadata": {
    "collapsed": true,
    "slideshow": {
     "slide_type": "slide"
    }
   },
   "outputs": [],
   "source": [
    "function serverB(bootTime) {\n",
    "  console.log(\"B: Booting up system...\")\n",
    "  timeout(bootTime, listenRequests)\n",
    "\n",
    "  function listenRequests() {\n",
    "    console.log(\"B: Server up and running\")\n",
    "    serverHandler = handler\n",
    "\n",
    "    if (queueCallback) {\n",
    "      serverHandler(queueCallback)\n",
    "      queueCallback = null\n",
    "    }\n",
    "  }\n",
    "\n",
    "  function handler(callback) {\n",
    "    console.log(\"B: Starting heavy computation\")\n",
    "    timeout(2000, () => callback(42))\n",
    "  }\n",
    "}"
   ]
  },
  {
   "cell_type": "code",
   "execution_count": 9,
   "metadata": {
    "slideshow": {
     "slide_type": "slide"
    }
   },
   "outputs": [
    {
     "name": "stdout",
     "output_type": "stream",
     "text": [
      "A: Booting up system...\n",
      "B: Booting up system...\n",
      ".B: Server up and running\n",
      ".................A: Checking network connection\n",
      "..........A: Request complex computation\n",
      "B: Starting heavy computation\n",
      "......................................A: Computation returned 42\n"
     ]
    }
   ],
   "source": [
    "function sendNetworkRequest(callback) {\n",
    "  if(serverHandler) {\n",
    "    serverHandler(callback)\n",
    "  } else {\n",
    "    queueCallback = callback\n",
    "  }\n",
    "}\n",
    "\n",
    "var queueCallback = null\n",
    "var serverHandler = null\n",
    "\n",
    "progress((done) => {\n",
    "  serverA(1000, done)\n",
    "  serverB(100)\n",
    "})"
   ]
  },
  {
   "cell_type": "markdown",
   "metadata": {
    "slideshow": {
     "slide_type": "slide"
    }
   },
   "source": [
    "# Wait, have you heard about promises?\n",
    "\n",
    "A quick Promises explanation, according to the Promises/A+ specification, for people not familiar with the concept. We are going to explain how we return an object that will be resolved or will fail in the future, and how actions can be chained with the `.then()` method."
   ]
  },
  {
   "cell_type": "code",
   "execution_count": 10,
   "metadata": {
    "slideshow": {
     "slide_type": "slide"
    }
   },
   "outputs": [
    {
     "name": "stdout",
     "output_type": "stream",
     "text": [
      "..................Hello world!\n",
      ".........."
     ]
    },
    {
     "data": {
      "text/plain": [
       "'I will be back'"
      ]
     },
     "execution_count": 10,
     "metadata": {},
     "output_type": "execute_result"
    }
   ],
   "source": [
    "var { promisify } = require('util')\n",
    "var delay = promisify(setTimeout)\n",
    "var asyncProgress = fn => {\n",
    "    var handle = setInterval(() => process.stdout.write('.'), 50)\n",
    "    return new Promise((resolve, reject) => {\n",
    "        fn().then(value => {\n",
    "            clearTimeout(handle)\n",
    "            resolve(value)\n",
    "        }).catch(error => {\n",
    "            clearTimeout(handle)\n",
    "            reject(error)\n",
    "        })\n",
    "    })\n",
    "}\n",
    "\n",
    "asyncProgress(() => {\n",
    "    return delay(1000)\n",
    "        .then(() => {\n",
    "            console.log('Hello world!')\n",
    "            return \"I will be back\"\n",
    "        })\n",
    "        .then(value => delay(500).then(() => value))\n",
    "})\n"
   ]
  },
  {
   "cell_type": "code",
   "execution_count": 11,
   "metadata": {
    "collapsed": true,
    "slideshow": {
     "slide_type": "slide"
    }
   },
   "outputs": [],
   "source": [
    "function getServerA(bootTime) {\n",
    "    console.log(\"A: Booting up system...\")\n",
    "\n",
    "    return Promise.delay(bootTime)\n",
    "        .then(checkNetwork)\n",
    "        .then(() => ({ sendRequest }))\n",
    "\n",
    "    function checkNetwork() {\n",
    "        console.log(\"A: Checking network connection\")\n",
    "        return delay(500)\n",
    "    }\n",
    "\n",
    "    function sendRequest(remoteServer) {\n",
    "        console.log(\"A: Request complex computation\")\n",
    "        return remoteServer\n",
    "            .compute(2)\n",
    "            .then(value => {\n",
    "                console.log\n",
    "                console.log(`A: Computation returned ${value}`)\n",
    "            })\n",
    "    }\n",
    "}"
   ]
  },
  {
   "cell_type": "code",
   "execution_count": 12,
   "metadata": {
    "slideshow": {
     "slide_type": "slide"
    }
   },
   "outputs": [],
   "source": [
    "function getServerB(bootTime) {\n",
    "    console.log(\"B: Booting up system...\")\n",
    "\n",
    "    return Promise.delay(bootTime).then(() => {\n",
    "        console.log(\"B: Server up and running\")\n",
    "        return { compute }\n",
    "    })\n",
    "\n",
    "    function compute(value) {\n",
    "        console.log(\"B: Starting heavy computation\")\n",
    "        return delay(2000).then(() => 40 + value)\n",
    "    }\n",
    "}"
   ]
  },
  {
   "cell_type": "code",
   "execution_count": 13,
   "metadata": {
    "slideshow": {
     "slide_type": "slide"
    }
   },
   "outputs": [
    {
     "name": "stdout",
     "output_type": "stream",
     "text": [
      "A: Booting up system...\n",
      "B: Booting up system...\n",
      ".B: Server up and running\n",
      "..................A: Checking network connection\n",
      ".........A: Request complex computation\n",
      "B: Starting heavy computation\n",
      "......................................A: Computation returned 42\n"
     ]
    }
   ],
   "source": [
    "var Promise = require('bluebird')\n",
    "\n",
    "asyncProgress(main)\n",
    "\n",
    "function main () {\n",
    "    return Promise.props({\n",
    "        serverA: getServerA(1000),\n",
    "        serverB: getServerB(100)\n",
    "    }).then(({ serverA, serverB }) => {\n",
    "        return serverA.sendRequest(serverB)\n",
    "    })\n",
    "}"
   ]
  },
  {
   "cell_type": "markdown",
   "metadata": {
    "slideshow": {
     "slide_type": "slide"
    }
   },
   "source": [
    "# Async/Await as an imperative, easier to read approach\n",
    "\n",
    "Promises end up being a more functional programming approach, but a little more difficult to read for folks used to imperative programming. After function generators (aka coroutines) were introduced in the ES2015 specification, people started using it to replicate the Async/Await feature from C#, to be able to await Promises. We are going to see how it was used, and how it evolved to be officially adopted in the ES2017 specification.\n",
    "\n",
    "We are also going to talk about Async/Await limitation of awaiting a single Promise at a time, and how other approaches might solve this problem."
   ]
  },
  {
   "cell_type": "code",
   "execution_count": 14,
   "metadata": {
    "slideshow": {
     "slide_type": "slide"
    }
   },
   "outputs": [],
   "source": [
    "async function getServerA(bootTime) {\n",
    "    console.log(\"A: Booting up system...\")\n",
    "    await delay(bootTime)\n",
    "    await checkNetwork()\n",
    "\n",
    "    return { sendRequest }\n",
    "\n",
    "    function checkNetwork() {\n",
    "        console.log(\"A: Checking network connection\")\n",
    "        return delay(500)\n",
    "    }\n",
    "\n",
    "    async function sendRequest(remoteServer) {\n",
    "        console.log(\"A: Request complex computation\")\n",
    "        var value = await remoteServer.compute(2)\n",
    "        console.log(`A: Computation returned ${value}`)\n",
    "    }\n",
    "}"
   ]
  },
  {
   "cell_type": "code",
   "execution_count": 15,
   "metadata": {
    "slideshow": {
     "slide_type": "slide"
    }
   },
   "outputs": [],
   "source": [
    "async function getServerB(bootTime) {\n",
    "    console.log(\"B: Booting up system...\")\n",
    "    await delay(bootTime)\n",
    "    console.log(\"B: Server up and running\")\n",
    "    return { compute }\n",
    "\n",
    "    async function compute(value) {\n",
    "        console.log(\"B: Starting heavy computation\")\n",
    "        await delay(2000)\n",
    "        return 40 + value\n",
    "    }\n",
    "}"
   ]
  },
  {
   "cell_type": "code",
   "execution_count": 16,
   "metadata": {
    "slideshow": {
     "slide_type": "slide"
    }
   },
   "outputs": [
    {
     "name": "stdout",
     "output_type": "stream",
     "text": [
      "A: Booting up system...\n",
      "B: Booting up system...\n",
      "A: Checking network connection\n",
      "B: Server up and running\n",
      ".........A: Request complex computation\n",
      "B: Starting heavy computation\n",
      "......................................A: Computation returned 42\n"
     ]
    }
   ],
   "source": [
    "var { all } = Promise\n",
    "\n",
    "asyncProgress(main)\n",
    "\n",
    "async function main () {\n",
    "    var [serverA, serverB] = await all([getServerA(), getServerB()])\n",
    "    await serverA.sendRequest(serverB)\n",
    "}"
   ]
  },
  {
   "cell_type": "markdown",
   "metadata": {
    "slideshow": {
     "slide_type": "slide"
    }
   },
   "source": [
    "# Reactive Extensions, as in CSharp\n",
    "\n",
    "After Reactive Extensions were introduced in C#, they were ported to several different programming environments, including JavaScript with Rx.js. So, we are going to explain the concept, showing a simple code example, and how it's possible to use the Rx.js API to manipulate and merge all sorts of different streams."
   ]
  },
  {
   "cell_type": "code",
   "execution_count": 18,
   "metadata": {
    "slideshow": {
     "slide_type": "slide"
    }
   },
   "outputs": [],
   "source": [
    "function getServerA(bootTime) {\n",
    "    console.log(\"A: Booting up system...\")\n",
    "\n",
    "    return Promise.delay(bootTime)\n",
    "        .then(checkNetwork)\n",
    "        .then(() => ({ sendRequest }))\n",
    "\n",
    "    function checkNetwork() {\n",
    "        console.log(\"A: Checking network connection\")\n",
    "        return delay(500)\n",
    "    }\n",
    "\n",
    "    function sendRequest(remoteServer) {\n",
    "        console.log(\"A: Request complex computation\")\n",
    "\n",
    "        return remoteServer.compute(2)\n",
    "            .do(value => console.log(`A: Received value ${value}`))\n",
    "            .take(10)\n",
    "            .reduce((acc, value) => acc + value, 0)\n",
    "            .toPromise()\n",
    "            .then(total => console.log(`A: Computation returned ${total}`))\n",
    "    }\n",
    "}"
   ]
  },
  {
   "cell_type": "code",
   "execution_count": 19,
   "metadata": {
    "slideshow": {
     "slide_type": "slide"
    }
   },
   "outputs": [],
   "source": [
    "function getServerB(bootTime) {\n",
    "    console.log(\"B: Booting up system...\")\n",
    "\n",
    "    return Promise.delay(bootTime).then(() => {\n",
    "        console.log(\"B: Server up and running\")\n",
    "        return { compute }\n",
    "    })\n",
    "\n",
    "    function compute(value) {\n",
    "        console.log(\"B: Starting heavy computation\")\n",
    "        return Observable.interval(200)\n",
    "            .scan((acc, x, i) => acc + i * 2, value)\n",
    "    }\n",
    "}"
   ]
  },
  {
   "cell_type": "code",
   "execution_count": 20,
   "metadata": {
    "slideshow": {
     "slide_type": "slide"
    }
   },
   "outputs": [
    {
     "name": "stdout",
     "output_type": "stream",
     "text": [
      "A: Booting up system...\n",
      "B: Booting up system...\n",
      ".B: Server up and running\n",
      ".................A: Checking network connection\n",
      "..........A: Request complex computation\n",
      "B: Starting heavy computation\n",
      "....A: Received value 2\n",
      "....A: Received value 4\n",
      "...A: Received value 8\n",
      "....A: Received value 14\n",
      "....A: Received value 22\n",
      "....A: Received value 32\n",
      "....A: Received value 44\n",
      "....A: Received value 58\n",
      "....A: Received value 74\n",
      "...A: Received value 92\n",
      "A: Computation returned 350\n"
     ]
    }
   ],
   "source": [
    "var { Observable } = require('rxjs')\n",
    "\n",
    "asyncProgress(main)\n",
    "\n",
    "function main () {\n",
    "    return Promise.props({\n",
    "        serverA: getServerA(1000),\n",
    "        serverB: getServerB(100)\n",
    "    }).then(({ serverA, serverB }) => {\n",
    "        return serverA.sendRequest(serverB)\n",
    "    })\n",
    "}"
   ]
  },
  {
   "cell_type": "markdown",
   "metadata": {
    "slideshow": {
     "slide_type": "slide"
    }
   },
   "source": [
    "# Channel-based programming, as in Go\n",
    "\n",
    "Go leverages Communicating Sequential Processes (aka CSP), by using blocking channels to coordinate the communication of many goroutines. Even though JavaScript is single threaded, the library `js-csp` uses generators the same style of programming. We are going to show an example of how use it to manipulate streams of async events in an imperative manner. "
   ]
  },
  {
   "cell_type": "code",
   "execution_count": 28,
   "metadata": {
    "slideshow": {
     "slide_type": "slide"
    }
   },
   "outputs": [],
   "source": [
    "var { go, put, take, CLOSED, timeout, chan } = require('js-csp')\n",
    "var toPromise = channel => {\n",
    "    return new Promise(resolve =>\n",
    "        go(function * () {\n",
    "            resolve(yield take(channel))\n",
    "        })\n",
    "    )\n",
    "}"
   ]
  },
  {
   "cell_type": "code",
   "execution_count": 29,
   "metadata": {
    "slideshow": {
     "slide_type": "slide"
    }
   },
   "outputs": [],
   "source": [
    "async function getServerA(bootTime) {\n",
    "    console.log(\"A: Booting up system...\")\n",
    "    await delay(bootTime)\n",
    "    await checkNetwork()\n",
    "\n",
    "    return { sendRequest }\n",
    "\n",
    "    function checkNetwork() {\n",
    "        console.log(\"A: Checking network connection\")\n",
    "        return delay(500)\n",
    "    }\n",
    "\n",
    "    async function sendRequest(remoteServer) {\n",
    "        console.log(\"A: Request complex computation\")\n",
    "        var channel = remoteServer.compute(2)\n",
    "\n",
    "        var value = await toPromise(csp.go(function * () {\n",
    "            var acc = 0\n",
    "            var count = 0\n",
    "            while (true) {\n",
    "                var value = yield take(channel)\n",
    "\n",
    "                console.log(`A: Received ${value}`)\n",
    "\n",
    "                acc += value\n",
    "                count += 1\n",
    "\n",
    "                if (count > 10) {\n",
    "                    channel.close()\n",
    "                    return acc\n",
    "                }\n",
    "            }\n",
    "        }))\n",
    "\n",
    "        console.log(`A: Computation returned ${value}`)\n",
    "    }\n",
    "}"
   ]
  },
  {
   "cell_type": "code",
   "execution_count": 30,
   "metadata": {
    "slideshow": {
     "slide_type": "slide"
    }
   },
   "outputs": [],
   "source": [
    "async function getServerB(bootTime) {\n",
    "    console.log(\"B: Booting up system...\")\n",
    "    await delay(bootTime)\n",
    "    console.log(\"B: Server up and running\")\n",
    "    return { compute }\n",
    "\n",
    "    function compute(value) {\n",
    "        console.log(\"B: Starting heavy computation\")\n",
    "\n",
    "        var channel = csp.chan()\n",
    "\n",
    "        go(function * () {\n",
    "            var current = value\n",
    "            var i = 1\n",
    "\n",
    "            while (yield put(channel, current)) {\n",
    "                current += i * 2\n",
    "                i++\n",
    "\n",
    "                yield timeout(200)\n",
    "            }\n",
    "        })\n",
    "\n",
    "        return channel\n",
    "    }\n",
    "}"
   ]
  },
  {
   "cell_type": "code",
   "execution_count": 31,
   "metadata": {
    "slideshow": {
     "slide_type": "slide"
    }
   },
   "outputs": [
    {
     "name": "stdout",
     "output_type": "stream",
     "text": [
      "A: Booting up system...\n",
      "B: Booting up system...\n",
      "A: Checking network connection\n",
      "B: Server up and running\n",
      ".........A: Request complex computation\n",
      "B: Starting heavy computation\n",
      "A: Received 2\n",
      "....A: Received 4\n",
      "....A: Received 8\n",
      "...A: Received 14\n",
      "....A: Received 22\n",
      "....A: Received 32\n",
      "....A: Received 44\n",
      "....A: Received 58\n",
      "....A: Received 74\n",
      "...A: Received 92\n",
      "....A: Received 112\n",
      "A: Computation returned 462\n"
     ]
    }
   ],
   "source": [
    "asyncProgress(main)\n",
    "\n",
    "async function main () {\n",
    "    var [serverA, serverB] = await all([getServerA(), getServerB()])\n",
    "    await serverA.sendRequest(serverB)\n",
    "}"
   ]
  },
  {
   "cell_type": "code",
   "execution_count": 25,
   "metadata": {
    "slideshow": {
     "slide_type": "slide"
    }
   },
   "outputs": [
    {
     "ename": "SyntaxError",
     "evalue": "Unexpected token *",
     "output_type": "error",
     "traceback": [
      "evalmachine.<anonymous>:3",
      "async function * producer() {",
      "               ^",
      "",
      "SyntaxError: Unexpected token *",
      "    at createScript (vm.js:74:10)",
      "    at Object.runInThisContext (vm.js:116:10)",
      "    at run ([eval]:757:15)",
      "    at onRunRequest ([eval]:597:18)",
      "    at [eval]:563:24",
      "    at tryCatcher (/Users/thalesmello/projects/slides/2017/theconf-expanding-async-in-javascript/node_modules/bluebird/js/release/util.js:16:23)",
      "    at Promise._settlePromiseFromHandler (/Users/thalesmello/projects/slides/2017/theconf-expanding-async-in-javascript/node_modules/bluebird/js/release/promise.js:512:31)",
      "    at Promise._settlePromise (/Users/thalesmello/projects/slides/2017/theconf-expanding-async-in-javascript/node_modules/bluebird/js/release/promise.js:569:18)",
      "    at Promise._settlePromiseCtx (/Users/thalesmello/projects/slides/2017/theconf-expanding-async-in-javascript/node_modules/bluebird/js/release/promise.js:606:10)",
      "    at Async._drainQueue (/Users/thalesmello/projects/slides/2017/theconf-expanding-async-in-javascript/node_modules/bluebird/js/release/async.js:138:12)",
      "    at Async._drainQueues (/Users/thalesmello/projects/slides/2017/theconf-expanding-async-in-javascript/node_modules/bluebird/js/release/async.js:143:10)",
      "    at Immediate.Async.drainQueues (/Users/thalesmello/projects/slides/2017/theconf-expanding-async-in-javascript/node_modules/bluebird/js/release/async.js:17:14)",
      "    at runCallback (timers.js:781:20)",
      "    at tryOnImmediate (timers.js:743:5)",
      "    at processImmediate [as _immediateCallback] (timers.js:714:5)"
     ]
    }
   ],
   "source": [
    "var { delay } = require('bluebird')\n",
    "\n",
    "async function * producer() {\n",
    "  const stream = [1, 2, 3, 4, 5]\n",
    "  for (let val of stream) {\n",
    "    await delay(1000)\n",
    "    yield val\n",
    "  }\n",
    "}\n",
    "\n",
    "async function consumer () {\n",
    "  for await (let val of producer()) {\n",
    "    console.log(val)\n",
    "  }\n",
    "}\n",
    "\n",
    "consumer()"
   ]
  },
  {
   "cell_type": "markdown",
   "metadata": {
    "slideshow": {
     "slide_type": "slide"
    }
   },
   "source": [
    "# Actor-based programming, as in Erlang and Elixir.\n",
    "\n",
    "All of the previous async techniques don't solve JavaScripts limitation of running in a single thread. That can, however, be worked around using Actor based programming, just like in Erlang and Elixir. Actor based programming works with idea of Actors, which can be thought of asynchronous and independent objects. With that concept in mind, we use message passing to communicate with the actors. The big concept here is, because Actors are independent from each other, can run in different processes. Therefore, we can use a library like `comedy` to run our application across many machines or many processes within the same machine. We are going to demonstrate an example of how this can be accomplished."
   ]
  },
  {
   "cell_type": "markdown",
   "metadata": {
    "slideshow": {
     "slide_type": "slide"
    }
   },
   "source": [
    "# Comparison of all different methods used\n",
    "\n",
    "```\n",
    "+------------+-------------+------------------------------+\n",
    "|            |  One Event  |        Multiple Events       |\n",
    "+------------+-------------+------------------------------+\n",
    "| Functional |  Callbacks  |      Reactive Extensions     |\n",
    "|            |   Promises  |                              |\n",
    "+------------+-------------+------------------------------+\n",
    "| Imperative | Async/Await | Async Generators & Iterators |\n",
    "|            |             |       Go-like channels       |\n",
    "+------------+-------------+------------------------------+\n",
    "```"
   ]
  }
 ],
 "metadata": {
  "celltoolbar": "Slideshow",
  "kernelspec": {
   "display_name": "Javascript (Node.js)",
   "language": "javascript",
   "name": "javascript"
  },
  "language_info": {
   "file_extension": ".js",
   "mimetype": "application/javascript",
   "name": "javascript",
   "version": "8.5.0"
  }
 },
 "nbformat": 4,
 "nbformat_minor": 2
}
